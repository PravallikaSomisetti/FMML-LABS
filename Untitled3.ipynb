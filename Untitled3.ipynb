{
  "nbformat": 4,
  "nbformat_minor": 0,
  "metadata": {
    "colab": {
      "provenance": [],
      "authorship_tag": "ABX9TyMlYcFdhxW9jsosfe1pHjYB",
      "include_colab_link": true
    },
    "kernelspec": {
      "name": "python3",
      "display_name": "Python 3"
    },
    "language_info": {
      "name": "python"
    }
  },
  "cells": [
    {
      "cell_type": "markdown",
      "metadata": {
        "id": "view-in-github",
        "colab_type": "text"
      },
      "source": [
        "<a href=\"https://colab.research.google.com/github/PravallikaSomisetti/FMML-LABS/blob/main/Untitled3.ipynb\" target=\"_parent\"><img src=\"https://colab.research.google.com/assets/colab-badge.svg\" alt=\"Open In Colab\"/></a>"
      ]
    },
    {
      "cell_type": "code",
      "execution_count": 2,
      "metadata": {
        "colab": {
          "base_uri": "https://localhost:8080/"
        },
        "id": "LW5QpxqOUVV2",
        "outputId": "df916924-d7d7-4004-c53b-4abf84497a3e"
      },
      "outputs": [
        {
          "output_type": "stream",
          "name": "stdout",
          "text": [
            "46\n",
            "Invalid\n"
          ]
        }
      ],
      "source": [
        "n=int(input())\n",
        "if(n>=41 and n<=45):\n",
        "  print(\"A\")\n",
        "elif(n>=36 and n<=40):\n",
        "  print(\"B\")\n",
        "elif(n>=31 and n<=35):\n",
        "  print(\"C\")\n",
        "elif(n>=0 and n<=30):\n",
        "  print(\"D\")\n",
        "else:\n",
        "  print(\"Invalid\")"
      ]
    },
    {
      "cell_type": "code",
      "source": [],
      "metadata": {
        "id": "GcFuQzxbVqle"
      },
      "execution_count": null,
      "outputs": []
    },
    {
      "cell_type": "code",
      "source": [],
      "metadata": {
        "id": "q3SWDnqzVrGc"
      },
      "execution_count": null,
      "outputs": []
    }
  ]
}